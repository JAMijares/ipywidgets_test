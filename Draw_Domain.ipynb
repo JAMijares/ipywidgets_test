{
 "cells": [
  {
   "cell_type": "markdown",
   "metadata": {
    "deletable": true,
    "editable": true
   },
   "source": [
    "# Draw domain and Obstacle with Widgets"
   ]
  },
  {
   "cell_type": "code",
   "execution_count": 134,
   "metadata": {
    "collapsed": false,
    "deletable": true,
    "editable": true
   },
   "outputs": [
    {
     "data": {
      "application/vnd.jupyter.widget-view+json": {
       "model_id": "c445f7c957644bfca7d633ec56304e13"
      }
     },
     "metadata": {},
     "output_type": "display_data"
    },
    {
     "data": {
      "application/vnd.jupyter.widget-view+json": {
       "model_id": "0fe30a322ed04c32b8af6b894e5df2e8"
      }
     },
     "metadata": {},
     "output_type": "display_data"
    },
    {
     "name": "stdout",
     "output_type": "stream",
     "text": [
      "          x         y\n",
      "0  4.000000  0.000000\n",
      "1  4.163024  0.377782\n",
      "2  4.535605  0.422944\n",
      "3  4.896895  0.287460\n",
      "4  4.930766  0.084234\n",
      "5  4.930766  0.000000\n"
     ]
    }
   ],
   "source": [
    "import ipywidgets as widgets\n",
    "from ipywidgets import interact, interactive, fixed, interact_manual, FloatSlider\n",
    "from matplotlib import pyplot as  plt\n",
    "import pandas as pd\n",
    "\n",
    "%matplotlib notebook\n",
    "class LineBuilder:\n",
    "    def __init__(self, line):\n",
    "        self.line = line\n",
    "        self.xs = list(line.get_xdata())\n",
    "        self.ys = list(line.get_ydata())\n",
    "        self.cid = line.figure.canvas.mpl_connect('button_press_event', self)\n",
    "\n",
    "    def __call__(self, event):\n",
    "        print('click', event)\n",
    "        if event.inaxes!=self.line.axes: return\n",
    "        self.xs.append(event.xdata)\n",
    "        self.ys.append(event.ydata)\n",
    "        self.line.set_data(self.xs, self.ys)\n",
    "        self.line.figure.canvas.draw()\n",
    "        \n",
    "def PlotCanvas(base,height,x0):\n",
    "    #Fix x size to jupyter column width\n",
    "    canvas = plt.figure(num=1,figsize=(base+1,height+1))\n",
    "    ax = canvas.add_subplot(111)\n",
    "    line, = ax.plot([x0], [0.0])  # empty line\n",
    "    ax.set_xlim([0,base])\n",
    "    ax.set_ylim([0,height])\n",
    "    ax.set_aspect('equal')\n",
    "    linebuilder = LineBuilder(line)\n",
    "    xvalues = line.get_xdata()\n",
    "    yvalues = line.get_ydata()\n",
    "    plt.title('Draw obstacle, origin at ('+str(x0)+',0.0)'+', Don\\'t need to close the perimeter')\n",
    "    return line\n",
    "\n",
    "w=interactive(PlotCanvas, \n",
    "                            base=FloatSlider(min=0, max=10, step=1, continuous_update=False,value=7),\n",
    "                            height=FloatSlider(min=0.1, max=3, step=0.1, continuous_update=False,value=1.0),\n",
    "                            x0=FloatSlider(min=0.0, max=10, step=0.1, continuous_update=False,value=4.0))\n",
    "from IPython.display import display\n",
    "display(w)\n",
    "line=w.result\n",
    "\n",
    "button = widgets.Button(description=\"Finish Obstacle\")\n",
    "\n",
    "\n",
    "display(button)\n",
    "\n",
    "def on_button_clicked(b):\n",
    "    # Obtain values and close last line\n",
    "    xval=line.get_xdata()+[line.get_xdata()[-1]]\n",
    "    yval=line.get_ydata()+[0.0]\n",
    "    canvas=plt.figure(1)\n",
    "    ax=canvas.axes[0]\n",
    "    ax.plot(xval,yval)\n",
    "    df =  pd.DataFrame(\n",
    "    {'x': xval,\n",
    "     'y': yval,\n",
    "    })\n",
    "    print(df)\n",
    "\n",
    "button.on_click(on_button_clicked)"
   ]
  },
  {
   "cell_type": "code",
   "execution_count": 135,
   "metadata": {
    "collapsed": false,
    "deletable": true,
    "editable": true
   },
   "outputs": [
    {
     "data": {
      "text/html": [
       "<div>\n",
       "<style>\n",
       "    .dataframe thead tr:only-child th {\n",
       "        text-align: right;\n",
       "    }\n",
       "\n",
       "    .dataframe thead th {\n",
       "        text-align: left;\n",
       "    }\n",
       "\n",
       "    .dataframe tbody tr th {\n",
       "        vertical-align: top;\n",
       "    }\n",
       "</style>\n",
       "<table border=\"1\" class=\"dataframe\">\n",
       "  <thead>\n",
       "    <tr style=\"text-align: right;\">\n",
       "      <th></th>\n",
       "      <th>x</th>\n",
       "      <th>y</th>\n",
       "    </tr>\n",
       "  </thead>\n",
       "  <tbody>\n",
       "    <tr>\n",
       "      <th>0</th>\n",
       "      <td>4.000000</td>\n",
       "      <td>0.000000</td>\n",
       "    </tr>\n",
       "    <tr>\n",
       "      <th>1</th>\n",
       "      <td>4.163024</td>\n",
       "      <td>0.377782</td>\n",
       "    </tr>\n",
       "    <tr>\n",
       "      <th>2</th>\n",
       "      <td>4.535605</td>\n",
       "      <td>0.422944</td>\n",
       "    </tr>\n",
       "    <tr>\n",
       "      <th>3</th>\n",
       "      <td>4.896895</td>\n",
       "      <td>0.287460</td>\n",
       "    </tr>\n",
       "    <tr>\n",
       "      <th>4</th>\n",
       "      <td>4.930766</td>\n",
       "      <td>0.084234</td>\n",
       "    </tr>\n",
       "    <tr>\n",
       "      <th>5</th>\n",
       "      <td>4.930766</td>\n",
       "      <td>0.000000</td>\n",
       "    </tr>\n",
       "  </tbody>\n",
       "</table>\n",
       "</div>"
      ],
      "text/plain": [
       "          x         y\n",
       "0  4.000000  0.000000\n",
       "1  4.163024  0.377782\n",
       "2  4.535605  0.422944\n",
       "3  4.896895  0.287460\n",
       "4  4.930766  0.084234\n",
       "5  4.930766  0.000000"
      ]
     },
     "execution_count": 135,
     "metadata": {},
     "output_type": "execute_result"
    }
   ],
   "source": [
    "    xval=line.get_xdata()+[line.get_xdata()[-1]]\n",
    "    yval=line.get_ydata()+[0.0]\n",
    "    df =  pd.DataFrame(\n",
    "    {'x': xval,\n",
    "     'y': yval,\n",
    "    })\n",
    "    df"
   ]
  },
  {
   "cell_type": "markdown",
   "metadata": {
    "deletable": true,
    "editable": true
   },
   "source": [
    "# Draw domain using points"
   ]
  },
  {
   "cell_type": "code",
   "execution_count": 2,
   "metadata": {
    "collapsed": false,
    "deletable": true,
    "editable": true
   },
   "outputs": [],
   "source": [
    "import numpy as np\n",
    "from math import sqrt\n",
    "from proteus import Domain\n",
    "domain = Domain.PlanarStraightLineGraphDomain(vertices=[[0.0,0.0],[0.0,1.0],[1.0,0.0]],segments=[[0,1],[1,2],[2,0]])\n"
   ]
  },
  {
   "cell_type": "code",
   "execution_count": 29,
   "metadata": {
    "collapsed": false,
    "deletable": true,
    "editable": true
   },
   "outputs": [],
   "source": [
    "#domain.writePLY(\"myDomain\")\n",
    "#domain.writePoly(\"myDomain\")"
   ]
  },
  {
   "cell_type": "code",
   "execution_count": 28,
   "metadata": {
    "collapsed": false,
    "deletable": true,
    "editable": true
   },
   "outputs": [
    {
     "data": {
      "image/png": "[encoded data removed]",
      "text/plain": [
       "<matplotlib.figure.Figure at 0x7efead5c1f90>"
      ]
     },
     "metadata": {},
     "output_type": "display_data"
    }
   ],
   "source": [
    "\n",
    "colors = ['b','g','r','c','m','y','k','w']\n",
    "for si,s in enumerate(domain.segments):\n",
    "            plt.plot([domain.vertices[s[0]][0],\n",
    "                     domain.vertices[s[1]][0]],\n",
    "                    [domain.vertices[s[0]][1],\n",
    "                     domain.vertices[s[1]][1]],\n",
    "                    color=colors[domain.segmentFlags[si]],\n",
    "                    linewidth=2,\n",
    "                    marker='o')\n",
    "plt.show()"
   ]
  },
  {
   "cell_type": "code",
   "execution_count": null,
   "metadata": {
    "collapsed": true,
    "deletable": true,
    "editable": true
   },
   "outputs": [],
   "source": []
  }
 ],
 "metadata": {
  "kernelspec": {
   "display_name": "Python 2",
   "language": "python",
   "name": "python2"
  },
  "language_info": {
   "codemirror_mode": {
    "name": "ipython",
    "version": 2
   },
   "file_extension": ".py",
   "mimetype": "text/x-python",
   "name": "python",
   "nbconvert_exporter": "python",
   "pygments_lexer": "ipython2",
   "version": "2.7.11"
  }
 },
 "nbformat": 4,
 "nbformat_minor": 2
}
